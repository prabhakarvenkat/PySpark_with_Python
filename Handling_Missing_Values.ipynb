{
 "cells": [
  {
   "cell_type": "markdown",
   "metadata": {},
   "source": [
    "## PySpark Handling Missing Values\n",
    "- Dropping the Columns\n",
    "- Dropping the Rows\n",
    "- Various Parameter in Dropping functionalities\n",
    "- Handling missing values by Mean, Median and Mode"
   ]
  },
  {
   "cell_type": "code",
   "execution_count": 1,
   "metadata": {},
   "outputs": [],
   "source": [
    "from pyspark.sql import SparkSession\n",
    "\n",
    "# Create SparkSession\n",
    "spark = SparkSession.builder.appName('Practice').getOrCreate()"
   ]
  },
  {
   "cell_type": "code",
   "execution_count": 2,
   "metadata": {},
   "outputs": [
    {
     "data": {
      "text/plain": [
       "DataFrame[NAME: string, AGE: int, EXPERIENCE: int, SALARY: int]"
      ]
     },
     "execution_count": 2,
     "metadata": {},
     "output_type": "execute_result"
    }
   ],
   "source": [
    "spark.read.csv('test2.csv', header=True, inferSchema=True)"
   ]
  },
  {
   "cell_type": "code",
   "execution_count": 3,
   "metadata": {},
   "outputs": [
    {
     "name": "stdout",
     "output_type": "stream",
     "text": [
      "+-------+----+----------+------+\n",
      "|   NAME| AGE|EXPERIENCE|SALARY|\n",
      "+-------+----+----------+------+\n",
      "|    ABI|  31|        10| 30000|\n",
      "|BANERJI|  15|         8| 25000|\n",
      "| CHARLI|  30|         8| 20000|\n",
      "|   DOMC|  25|         6| 20100|\n",
      "| HARSHA|  29|         3| 15000|\n",
      "|   PAUL|  32|         5| 18250|\n",
      "|  MAHAV|NULL|      NULL| 40500|\n",
      "|   NULL|  31|         9| 12599|\n",
      "|   NULL|  29|      NULL|  NULL|\n",
      "+-------+----+----------+------+\n",
      "\n"
     ]
    }
   ],
   "source": [
    "df_pyspark = spark.read.csv('test2.csv', header=True, inferSchema=True)\n",
    "df_pyspark.show()"
   ]
  },
  {
   "cell_type": "markdown",
   "metadata": {},
   "source": [
    "- Drop the NaN values"
   ]
  },
  {
   "cell_type": "code",
   "execution_count": 4,
   "metadata": {},
   "outputs": [
    {
     "name": "stdout",
     "output_type": "stream",
     "text": [
      "+-------+---+----------+------+\n",
      "|   NAME|AGE|EXPERIENCE|SALARY|\n",
      "+-------+---+----------+------+\n",
      "|    ABI| 31|        10| 30000|\n",
      "|BANERJI| 15|         8| 25000|\n",
      "| CHARLI| 30|         8| 20000|\n",
      "|   DOMC| 25|         6| 20100|\n",
      "| HARSHA| 29|         3| 15000|\n",
      "|   PAUL| 32|         5| 18250|\n",
      "+-------+---+----------+------+\n",
      "\n"
     ]
    }
   ],
   "source": [
    "df_pyspark.na.drop().show()"
   ]
  },
  {
   "cell_type": "code",
   "execution_count": 6,
   "metadata": {},
   "outputs": [
    {
     "name": "stdout",
     "output_type": "stream",
     "text": [
      "+-------+---+----------+------+\n",
      "|   NAME|AGE|EXPERIENCE|SALARY|\n",
      "+-------+---+----------+------+\n",
      "|    ABI| 31|        10| 30000|\n",
      "|BANERJI| 15|         8| 25000|\n",
      "| CHARLI| 30|         8| 20000|\n",
      "|   DOMC| 25|         6| 20100|\n",
      "| HARSHA| 29|         3| 15000|\n",
      "|   PAUL| 32|         5| 18250|\n",
      "+-------+---+----------+------+\n",
      "\n"
     ]
    }
   ],
   "source": [
    "### any == how\n",
    "df_pyspark.na.drop(how=\"any\").show()"
   ]
  },
  {
   "cell_type": "code",
   "execution_count": null,
   "metadata": {},
   "outputs": [
    {
     "name": "stdout",
     "output_type": "stream",
     "text": [
      "+-------+----+----------+------+\n",
      "|   NAME| AGE|EXPERIENCE|SALARY|\n",
      "+-------+----+----------+------+\n",
      "|    ABI|  31|        10| 30000|\n",
      "|BANERJI|  15|         8| 25000|\n",
      "| CHARLI|  30|         8| 20000|\n",
      "|   DOMC|  25|         6| 20100|\n",
      "| HARSHA|  29|         3| 15000|\n",
      "|   PAUL|  32|         5| 18250|\n",
      "|  MAHAV|NULL|      NULL| 40500|\n",
      "|   NULL|  31|         9| 12599|\n",
      "+-------+----+----------+------+\n",
      "\n"
     ]
    }
   ],
   "source": [
    "### threshold\n",
    "df_pyspark.na.drop(how=\"any\", thresh=2).show() # Atleast 2 non-null values"
   ]
  },
  {
   "cell_type": "code",
   "execution_count": 8,
   "metadata": {},
   "outputs": [
    {
     "name": "stdout",
     "output_type": "stream",
     "text": [
      "+-------+---+----------+------+\n",
      "|   NAME|AGE|EXPERIENCE|SALARY|\n",
      "+-------+---+----------+------+\n",
      "|    ABI| 31|        10| 30000|\n",
      "|BANERJI| 15|         8| 25000|\n",
      "| CHARLI| 30|         8| 20000|\n",
      "|   DOMC| 25|         6| 20100|\n",
      "| HARSHA| 29|         3| 15000|\n",
      "|   PAUL| 32|         5| 18250|\n",
      "|   NULL| 31|         9| 12599|\n",
      "+-------+---+----------+------+\n",
      "\n"
     ]
    }
   ],
   "source": [
    "### subsest\n",
    "df_pyspark.na.drop(how=\"any\", subset=['EXPERIENCE']).show() # Wherever the NaN values are present in the EXPERIENCE column it gets deleted "
   ]
  },
  {
   "cell_type": "markdown",
   "metadata": {},
   "source": [
    "- Filling the Missing Values"
   ]
  },
  {
   "cell_type": "code",
   "execution_count": 9,
   "metadata": {},
   "outputs": [
    {
     "name": "stdout",
     "output_type": "stream",
     "text": [
      "+--------------+----+----------+------+\n",
      "|          NAME| AGE|EXPERIENCE|SALARY|\n",
      "+--------------+----+----------+------+\n",
      "|           ABI|  31|        10| 30000|\n",
      "|       BANERJI|  15|         8| 25000|\n",
      "|        CHARLI|  30|         8| 20000|\n",
      "|          DOMC|  25|         6| 20100|\n",
      "|        HARSHA|  29|         3| 15000|\n",
      "|          PAUL|  32|         5| 18250|\n",
      "|         MAHAV|NULL|      NULL| 40500|\n",
      "|Missing Values|  31|         9| 12599|\n",
      "|Missing Values|  29|      NULL|  NULL|\n",
      "+--------------+----+----------+------+\n",
      "\n"
     ]
    }
   ],
   "source": [
    "df_pyspark.na.fill('Missing Values').show()"
   ]
  },
  {
   "cell_type": "markdown",
   "metadata": {},
   "source": [
    "- Handling the Missing Values"
   ]
  },
  {
   "cell_type": "code",
   "execution_count": 12,
   "metadata": {},
   "outputs": [
    {
     "name": "stdout",
     "output_type": "stream",
     "text": [
      "+-------+----+----------+------+\n",
      "|   NAME| AGE|EXPERIENCE|SALARY|\n",
      "+-------+----+----------+------+\n",
      "|    ABI|  31|        10| 30000|\n",
      "|BANERJI|  15|         8| 25000|\n",
      "| CHARLI|  30|         8| 20000|\n",
      "|   DOMC|  25|         6| 20100|\n",
      "| HARSHA|  29|         3| 15000|\n",
      "|   PAUL|  32|         5| 18250|\n",
      "|  MAHAV|NULL|      NULL| 40500|\n",
      "|   NULL|  31|         9| 12599|\n",
      "|   NULL|  29|      NULL|  NULL|\n",
      "+-------+----+----------+------+\n",
      "\n"
     ]
    }
   ],
   "source": [
    "df_pyspark.show()"
   ]
  },
  {
   "cell_type": "code",
   "execution_count": 15,
   "metadata": {},
   "outputs": [],
   "source": [
    "from pyspark.ml.feature import Imputer\n",
    "\n",
    "imputer = Imputer(\n",
    "    inputCols=['AGE', 'EXPERIENCE', 'SALARY'],\n",
    "    outputCols=[\"{}_imputed\".format(c) for c in ['AGE', 'EXPERIENCE', 'SALARY']]).setStrategy(\"mean\")"
   ]
  },
  {
   "cell_type": "code",
   "execution_count": 16,
   "metadata": {},
   "outputs": [
    {
     "name": "stdout",
     "output_type": "stream",
     "text": [
      "+-------+----+----------+------+-----------+------------------+--------------+\n",
      "|   NAME| AGE|EXPERIENCE|SALARY|AGE_imputed|EXPERIENCE_imputed|SALARY_imputed|\n",
      "+-------+----+----------+------+-----------+------------------+--------------+\n",
      "|    ABI|  31|        10| 30000|         31|                10|         30000|\n",
      "|BANERJI|  15|         8| 25000|         15|                 8|         25000|\n",
      "| CHARLI|  30|         8| 20000|         30|                 8|         20000|\n",
      "|   DOMC|  25|         6| 20100|         25|                 6|         20100|\n",
      "| HARSHA|  29|         3| 15000|         29|                 3|         15000|\n",
      "|   PAUL|  32|         5| 18250|         32|                 5|         18250|\n",
      "|  MAHAV|NULL|      NULL| 40500|         27|                 7|         40500|\n",
      "|   NULL|  31|         9| 12599|         31|                 9|         12599|\n",
      "|   NULL|  29|      NULL|  NULL|         29|                 7|         22681|\n",
      "+-------+----+----------+------+-----------+------------------+--------------+\n",
      "\n"
     ]
    }
   ],
   "source": [
    "## Add imputation Cols to df\n",
    "imputer.fit(df_pyspark).transform(df_pyspark).show()"
   ]
  },
  {
   "cell_type": "markdown",
   "metadata": {},
   "source": [
    "- Similarly you can change the mean into median and mode"
   ]
  },
  {
   "cell_type": "code",
   "execution_count": null,
   "metadata": {},
   "outputs": [],
   "source": []
  },
  {
   "cell_type": "code",
   "execution_count": null,
   "metadata": {},
   "outputs": [],
   "source": []
  }
 ],
 "metadata": {
  "kernelspec": {
   "display_name": "base",
   "language": "python",
   "name": "python3"
  },
  "language_info": {
   "codemirror_mode": {
    "name": "ipython",
    "version": 3
   },
   "file_extension": ".py",
   "mimetype": "text/x-python",
   "name": "python",
   "nbconvert_exporter": "python",
   "pygments_lexer": "ipython3",
   "version": "3.10.9"
  }
 },
 "nbformat": 4,
 "nbformat_minor": 2
}

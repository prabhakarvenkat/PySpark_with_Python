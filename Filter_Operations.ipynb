{
 "cells": [
  {
   "cell_type": "markdown",
   "metadata": {},
   "source": [
    "## PySpark DataFrames\n",
    "- Filter Operation\n",
    "- &, |, ==\n",
    "- ~"
   ]
  },
  {
   "cell_type": "code",
   "execution_count": 1,
   "metadata": {},
   "outputs": [],
   "source": [
    "from pyspark.sql import SparkSession"
   ]
  },
  {
   "cell_type": "code",
   "execution_count": 2,
   "metadata": {},
   "outputs": [],
   "source": [
    "spark = SparkSession.builder.appName('dataframe').getOrCreate()"
   ]
  },
  {
   "cell_type": "code",
   "execution_count": 3,
   "metadata": {},
   "outputs": [
    {
     "name": "stdout",
     "output_type": "stream",
     "text": [
      "+-------+---+----------+------+\n",
      "|   NAME|AGE|EXPERIENCE|SALARY|\n",
      "+-------+---+----------+------+\n",
      "|    ABI| 31|        10| 30000|\n",
      "|BANERJI| 15|         8| 25000|\n",
      "| CHARLI| 30|         8| 20000|\n",
      "|   DOMC| 25|         6| 20100|\n",
      "| HARSHA| 29|         3| 15000|\n",
      "|   PAUL| 32|         5| 18250|\n",
      "+-------+---+----------+------+\n",
      "\n"
     ]
    }
   ],
   "source": [
    "df_pyspark = spark.read.csv('test2.csv', header=True, inferSchema=True)\n",
    "df_pyspark.show()"
   ]
  },
  {
   "cell_type": "markdown",
   "metadata": {},
   "source": [
    "- Filter Operations"
   ]
  },
  {
   "cell_type": "code",
   "execution_count": 4,
   "metadata": {},
   "outputs": [
    {
     "name": "stdout",
     "output_type": "stream",
     "text": [
      "+------+---+----------+------+\n",
      "|  NAME|AGE|EXPERIENCE|SALARY|\n",
      "+------+---+----------+------+\n",
      "|CHARLI| 30|         8| 20000|\n",
      "|HARSHA| 29|         3| 15000|\n",
      "|  PAUL| 32|         5| 18250|\n",
      "+------+---+----------+------+\n",
      "\n"
     ]
    }
   ],
   "source": [
    "### Salary of the people less than or equal to 20000\n",
    "df_pyspark.filter(\"SALARY<=20000\").show()"
   ]
  },
  {
   "cell_type": "markdown",
   "metadata": {},
   "source": [
    "df_pyspark.filter(df_pyspark['SALARY']<=20000).show()"
   ]
  },
  {
   "cell_type": "code",
   "execution_count": 5,
   "metadata": {},
   "outputs": [
    {
     "name": "stdout",
     "output_type": "stream",
     "text": [
      "+------+---+\n",
      "|  NAME|AGE|\n",
      "+------+---+\n",
      "|CHARLI| 30|\n",
      "|HARSHA| 29|\n",
      "|  PAUL| 32|\n",
      "+------+---+\n",
      "\n"
     ]
    }
   ],
   "source": [
    "df_pyspark.filter(\"SALARY<=20000\").select(['NAME','AGE']).show()"
   ]
  },
  {
   "cell_type": "code",
   "execution_count": 7,
   "metadata": {},
   "outputs": [
    {
     "name": "stdout",
     "output_type": "stream",
     "text": [
      "+------+---+----------+------+\n",
      "|  NAME|AGE|EXPERIENCE|SALARY|\n",
      "+------+---+----------+------+\n",
      "|CHARLI| 30|         8| 20000|\n",
      "|HARSHA| 29|         3| 15000|\n",
      "|  PAUL| 32|         5| 18250|\n",
      "+------+---+----------+------+\n",
      "\n"
     ]
    }
   ],
   "source": [
    "df_pyspark.filter((df_pyspark['SALARY']<=20000) & (df_pyspark['SALARY']>=15000)).show()"
   ]
  },
  {
   "cell_type": "code",
   "execution_count": 8,
   "metadata": {},
   "outputs": [
    {
     "name": "stdout",
     "output_type": "stream",
     "text": [
      "+-------+---+----------+------+\n",
      "|   NAME|AGE|EXPERIENCE|SALARY|\n",
      "+-------+---+----------+------+\n",
      "|    ABI| 31|        10| 30000|\n",
      "|BANERJI| 15|         8| 25000|\n",
      "| CHARLI| 30|         8| 20000|\n",
      "|   DOMC| 25|         6| 20100|\n",
      "| HARSHA| 29|         3| 15000|\n",
      "|   PAUL| 32|         5| 18250|\n",
      "+-------+---+----------+------+\n",
      "\n"
     ]
    }
   ],
   "source": [
    "df_pyspark.filter((df_pyspark['SALARY']<=20000) | (df_pyspark['SALARY']>=15000)).show()"
   ]
  },
  {
   "cell_type": "code",
   "execution_count": 9,
   "metadata": {},
   "outputs": [
    {
     "name": "stdout",
     "output_type": "stream",
     "text": [
      "+-------+---+----------+------+\n",
      "|   NAME|AGE|EXPERIENCE|SALARY|\n",
      "+-------+---+----------+------+\n",
      "|    ABI| 31|        10| 30000|\n",
      "|BANERJI| 15|         8| 25000|\n",
      "|   DOMC| 25|         6| 20100|\n",
      "+-------+---+----------+------+\n",
      "\n"
     ]
    }
   ],
   "source": [
    "df_pyspark.filter(~(df_pyspark['SALARY']<=20000)).show()"
   ]
  },
  {
   "cell_type": "code",
   "execution_count": null,
   "metadata": {},
   "outputs": [],
   "source": []
  }
 ],
 "metadata": {
  "kernelspec": {
   "display_name": "base",
   "language": "python",
   "name": "python3"
  },
  "language_info": {
   "codemirror_mode": {
    "name": "ipython",
    "version": 3
   },
   "file_extension": ".py",
   "mimetype": "text/x-python",
   "name": "python",
   "nbconvert_exporter": "python",
   "pygments_lexer": "ipython3",
   "version": "3.10.9"
  }
 },
 "nbformat": 4,
 "nbformat_minor": 2
}
